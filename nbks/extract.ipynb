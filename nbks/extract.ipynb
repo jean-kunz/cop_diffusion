{
 "cells": [
  {
   "cell_type": "code",
   "execution_count": 8,
   "metadata": {},
   "outputs": [
    {
     "name": "stdout",
     "output_type": "stream",
     "text": [
      "Total pages in the PDF: 328\n",
      "Adding pages from 0 to 15\n",
      "Adding pages from 145 to 151\n",
      "Adding pages from 300 to 325\n",
      "Filtered PDF saved to: /Users/jkunz/docs/light/filtered_Citi-10k20231231.pdf\n"
     ]
    }
   ],
   "source": [
    "from PyPDF2 import PdfReader, PdfWriter\n",
    "import os\n",
    "\n",
    "\n",
    "def filter_pages(pdf_file, ranges, output_dir=\"/Users/jkunz/docs/light\"):\n",
    "    # Create the output directory if it doesn't exist\n",
    "    os.makedirs(output_dir, exist_ok=True)\n",
    "\n",
    "    # Extract the base name of the PDF file to use for the output\n",
    "    pdf_file_name = os.path.basename(pdf_file)\n",
    "    output_path = os.path.join(output_dir, f\"filtered_{pdf_file_name}\")\n",
    "\n",
    "    # Initialize PdfReader and PdfWriter\n",
    "    reader = PdfReader(pdf_file)\n",
    "    writer = PdfWriter()\n",
    "\n",
    "    num_pages = len(reader.pages)\n",
    "    print(f\"Total pages in the PDF: {num_pages}\")\n",
    "\n",
    "    # Define the page ranges you want to extract (0-based indexing)\n",
    "\n",
    "\n",
    "    # Iterate through each range and add the pages to the writer\n",
    "    for p_start, p_end in ranges:\n",
    "        # Ensure the end page doesn't exceed the total number of pages\n",
    "        p_end = min(p_end, num_pages - 1)\n",
    "        print(f\"Adding pages from {p_start} to {p_end}\")\n",
    "        for i in range(p_start, p_end + 1):\n",
    "            writer.add_page(reader.pages[i])\n",
    "\n",
    "    # Write the filtered pages to the new PDF file\n",
    "    with open(output_path, 'wb') as f:\n",
    "        writer.write(f)\n",
    "\n",
    "    print(f\"Filtered PDF saved to: {output_path}\")\n",
    "\n",
    "\n",
    "#output_dir = \"drive/MyDrive/epfl_rag/light\"\n",
    "\n",
    "\n",
    "filter_pages(pdf_file = \"/Users/jkunz/docs/10k/Citi-10k20231231.pdf\", ranges = [(0, 15), (145, 151), (300, 325)])"
   ]
  },
  {
   "cell_type": "code",
   "execution_count": 10,
   "metadata": {},
   "outputs": [
    {
     "name": "stdout",
     "output_type": "stream",
     "text": [
      "Total pages in the PDF: 243\n",
      "Adding pages from 0 to 10\n",
      "Adding pages from 59 to 65\n",
      "Adding pages from 137 to 144\n",
      "Filtered PDF saved to: /Users/jkunz/docs/light/filtered_capital one 2023 Annual Report.pdf\n"
     ]
    }
   ],
   "source": [
    "filter_pages(pdf_file = \"/Users/jkunz/docs/10k/capital one 2023 Annual Report.pdf\", ranges = [(0, 10), (59, 65),(137,144)])"
   ]
  },
  {
   "cell_type": "code",
   "execution_count": 9,
   "metadata": {},
   "outputs": [
    {
     "name": "stdout",
     "output_type": "stream",
     "text": [
      "Total pages in the PDF: 422\n",
      "Adding pages from 0 to 5\n",
      "Adding pages from 39 to 55\n",
      "Adding pages from 166 to 172\n",
      "Filtered PDF saved to: /Users/jkunz/docs/light/filtered_JPM-corp-10k-2023.pdf\n"
     ]
    }
   ],
   "source": [
    "filter_pages(pdf_file = \"/Users/jkunz/docs/10k/JPM-corp-10k-2023.pdf\", ranges = [(0, 5),(55,70),(135,142)])"
   ]
  },
  {
   "cell_type": "code",
   "execution_count": null,
   "metadata": {},
   "outputs": [],
   "source": []
  },
  {
   "cell_type": "code",
   "execution_count": 12,
   "metadata": {},
   "outputs": [
    {
     "name": "stdout",
     "output_type": "stream",
     "text": [
      "Total pages in the PDF: 290\n",
      "Adding pages from 0 to 5\n",
      "Adding pages from 25 to 32\n",
      "Adding pages from 55 to 65\n",
      "Adding pages from 90 to 96\n",
      "Adding pages from 164 to 180\n",
      "Filtered PDF saved to: /Users/jkunz/docs/light/filtered_BOA-10k.pdf\n"
     ]
    }
   ],
   "source": [
    "filter_pages(pdf_file = \"/Users/jkunz/docs/10k/BOA-10k.pdf\", ranges = [(0, 5),(25,32),(55,65),(90, 96),(164,180)])"
   ]
  },
  {
   "cell_type": "code",
   "execution_count": 14,
   "metadata": {},
   "outputs": [
    {
     "name": "stdout",
     "output_type": "stream",
     "text": [
      "Total pages in the PDF: 206\n",
      "Adding pages from 0 to 15\n",
      "Adding pages from 20 to 30\n",
      "Adding pages from 90 to 100\n",
      "Adding pages from 200 to 205\n",
      "Filtered PDF saved to: /Users/jkunz/docs/light/filtered_wellsfargo-2023-annual-report.pdf\n"
     ]
    }
   ],
   "source": [
    "\n",
    "filter_pages(pdf_file = \"/Users/jkunz/docs/10k/wellsfargo-2023-annual-report.pdf\", ranges = [(0, 15),(20,30),(90,100),(200,205)])"
   ]
  },
  {
   "cell_type": "code",
   "execution_count": null,
   "metadata": {},
   "outputs": [],
   "source": []
  }
 ],
 "metadata": {
  "kernelspec": {
   "display_name": "cop-diffusion-04jlPuwc-py3.12",
   "language": "python",
   "name": "python3"
  },
  "language_info": {
   "codemirror_mode": {
    "name": "ipython",
    "version": 3
   },
   "file_extension": ".py",
   "mimetype": "text/x-python",
   "name": "python",
   "nbconvert_exporter": "python",
   "pygments_lexer": "ipython3",
   "version": "3.12.6"
  }
 },
 "nbformat": 4,
 "nbformat_minor": 2
}

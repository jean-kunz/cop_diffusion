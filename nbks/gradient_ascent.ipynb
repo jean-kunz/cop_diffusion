{
 "cells": [
  {
   "cell_type": "code",
   "execution_count": 1,
   "metadata": {},
   "outputs": [
    {
     "name": "stdout",
     "output_type": "stream",
     "text": [
      "env: PYDEVD_DISABLE_FILE_VALIDATION=1\n"
     ]
    }
   ],
   "source": [
    "# | default_exp diff_scratch\n",
    "\n",
    "%load_ext autoreload\n",
    "%autoreload 2\n",
    "\n",
    "%env PYDEVD_DISABLE_FILE_VALIDATION=1"
   ]
  },
  {
   "cell_type": "code",
   "execution_count": 11,
   "metadata": {},
   "outputs": [
    {
     "name": "stdout",
     "output_type": "stream",
     "text": [
      "Using device: mps\n"
     ]
    }
   ],
   "source": [
    "from tqdm import tqdm\n",
    "import torch\n",
    "import torch.nn as nn\n",
    "import torch.optim as optim\n",
    "from torchvision import datasets, transforms\n",
    "from torch.utils.data import DataLoader\n",
    "from torch.utils.tensorboard import SummaryWriter\n",
    "\n",
    "device = torch.device(\"mps\" if torch.backends.mps.is_available() else \"cpu\")\n",
    "print(f\"Using device: {device}\")"
   ]
  },
  {
   "cell_type": "code",
   "execution_count": 14,
   "metadata": {},
   "outputs": [
    {
     "name": "stderr",
     "output_type": "stream",
     "text": [
      "Training update: 100%|██████████| 2814/2814 [00:23<00:00, 122.34batch/s, epoch=2, batch_nb=937, train_loss=0.2466]\n"
     ]
    }
   ],
   "source": [
    "from datetime import datetime\n",
    "\n",
    "\n",
    "class MNISTClassifier(nn.Module):\n",
    "    def __init__(self):\n",
    "        super(MNISTClassifier, self).__init__()\n",
    "        self.conv_layers = nn.Sequential(\n",
    "            nn.Conv2d(1, 32, kernel_size=3, padding=1),  # 28x28 -> 28x28\n",
    "            nn.ReLU(),\n",
    "            nn.MaxPool2d(2),  # 28x28 -> 14x14\n",
    "            nn.Conv2d(32, 64, kernel_size=3, padding=1),  # 14x14 -> 14x14\n",
    "            nn.ReLU(),\n",
    "            nn.MaxPool2d(2),  # 14x14 -> 7x7\n",
    "        )\n",
    "        self.fc_layers = nn.Sequential(\n",
    "            nn.Flatten(),\n",
    "            nn.Linear(64 * 7 * 7, 128),  # Fully connected layer\n",
    "            nn.ReLU(),\n",
    "            nn.Linear(128, 10),  # Output layer for 10 classes\n",
    "        )\n",
    "\n",
    "    def forward(self, x):\n",
    "        x = self.conv_layers(x)\n",
    "        x = self.fc_layers(x)\n",
    "        return x\n",
    "\n",
    "\n",
    "# Load MNIST dataset\n",
    "transform = transforms.ToTensor()\n",
    "train_loader = DataLoader(\n",
    "    datasets.MNIST(\"./data\", train=True, download=True, transform=transform),\n",
    "    batch_size=64,\n",
    "    shuffle=True,\n",
    ")\n",
    "nb_batches = len(train_loader)\n",
    "\n",
    "# Initialize model, loss, and optimizer\n",
    "model = MNISTClassifier().to(device)\n",
    "criterion = nn.CrossEntropyLoss()\n",
    "optimizer = optim.Adam(model.parameters(), lr=0.001)\n",
    "\n",
    "nb_epochs = 3\n",
    "# Train the model\n",
    "model_name = \"MNIST-classifier\"\n",
    "model_version = \"0.1\"\n",
    "writer = SummaryWriter(\n",
    "    f\"../runs/{model_name}_{model_version}/{datetime.now().strftime('%m-%d-%Y_%H:%M:%S')}\"\n",
    ")\n",
    "\n",
    "model.train()\n",
    "with tqdm(\n",
    "    total=nb_epochs * nb_batches,\n",
    "    desc=f\"Training update\",\n",
    "    unit=\"batch\",\n",
    ") as pbar:\n",
    "    for epoch in range(nb_epochs):  # 2 epochs for demonstration\n",
    "        for batch_idx, (data, target) in enumerate(train_loader):\n",
    "            data, target = data.to(device), target.to(device)\n",
    "            optimizer.zero_grad()\n",
    "            output = model(data)\n",
    "            loss = criterion(output, target)\n",
    "            loss.backward()\n",
    "            optimizer.step()\n",
    "\n",
    "            i = (epoch * nb_batches) + batch_idx\n",
    "            writer.add_scalar(\"train loss\", loss.item(), i)\n",
    "            pbar.update(1)\n",
    "            pbar.set_postfix(\n",
    "                {\n",
    "                    \"epoch\": epoch,\n",
    "                    \"batch_nb\": batch_idx,\n",
    "                    \"train_loss\": f\"{loss.item():.4f}\",\n",
    "                }\n",
    "            )"
   ]
  },
  {
   "cell_type": "code",
   "execution_count": 15,
   "metadata": {},
   "outputs": [
    {
     "data": {
      "text/plain": [
       "tensor(0.2466, device='mps:0', grad_fn=<NllLossBackward0>)"
      ]
     },
     "execution_count": 15,
     "metadata": {},
     "output_type": "execute_result"
    }
   ],
   "source": [
    "loss"
   ]
  },
  {
   "cell_type": "code",
   "execution_count": 18,
   "metadata": {},
   "outputs": [
    {
     "data": {
      "image/png": "[encoded data removed]",
      "text/plain": [
       "<Figure size 640x480 with 1 Axes>"
      ]
     },
     "metadata": {},
     "output_type": "display_data"
    }
   ],
   "source": [
    "import matplotlib.pyplot as plt\n",
    "\n",
    "\n",
    "# Function to generate an input image that maximizes a specific class\n",
    "def visualize_class(model, target_class, steps=50, lr=0.1):\n",
    "    model.eval()\n",
    "    # Start with random noise as input\n",
    "    input_image = torch.randn((1, 1, 28, 28), requires_grad=True, device=device)\n",
    "    optimizer = optim.Adam([input_image], lr=lr)\n",
    "\n",
    "    for step in range(steps):\n",
    "        optimizer.zero_grad()\n",
    "        output = model(input_image)\n",
    "        loss = -output[0, target_class]  # Maximize activation for target_class\n",
    "        loss.backward()\n",
    "        optimizer.step()\n",
    "\n",
    "        # Clamp input image to valid range\n",
    "        input_image.data = input_image.data.clamp(0, 1)\n",
    "\n",
    "    return input_image.detach().cpu().squeeze()\n",
    "\n",
    "\n",
    "# Visualize the feature for class '0'\n",
    "target_class = 1  # Change this to visualize other classes\n",
    "generated_image = visualize_class(model, target_class)\n",
    "\n",
    "# Plot the generated image\n",
    "plt.imshow(generated_image, cmap=\"gray\")\n",
    "plt.title(f\"Visualized Features for Class {target_class}\")\n",
    "plt.axis(\"off\")\n",
    "plt.show()"
   ]
  },
  {
   "cell_type": "code",
   "execution_count": null,
   "metadata": {},
   "outputs": [],
   "source": []
  }
 ],
 "metadata": {
  "kernelspec": {
   "display_name": "cop-diffusion-04jlPuwc-py3.12",
   "language": "python",
   "name": "python3"
  },
  "language_info": {
   "codemirror_mode": {
    "name": "ipython",
    "version": 3
   },
   "file_extension": ".py",
   "mimetype": "text/x-python",
   "name": "python",
   "nbconvert_exporter": "python",
   "pygments_lexer": "ipython3",
   "version": "3.12.8"
  }
 },
 "nbformat": 4,
 "nbformat_minor": 2
}

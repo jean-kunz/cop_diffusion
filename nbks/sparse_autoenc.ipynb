{
 "cells": [
  {
   "cell_type": "code",
   "execution_count": null,
   "metadata": {},
   "outputs": [],
   "source": [
    "# | default_exp sparse_autoenc\n",
    "\n",
    "%load_ext autoreload\n",
    "%autoreload 2\n",
    "\n",
    "%env PYDEVD_DISABLE_FILE_VALIDATION=1"
   ]
  },
  {
   "cell_type": "code",
   "execution_count": null,
   "metadata": {},
   "outputs": [],
   "source": [
    "import torch\n",
    "import torch.nn as nn\n",
    "import torch.optim as optim\n",
    "from torchvision import datasets, transforms\n",
    "from torch.utils.data import DataLoader\n",
    "\n",
    "import matplotlib.pyplot as plt\n",
    "\n",
    "device = \"mps\" if torch.backends.mps.is_available() else \"cpu\""
   ]
  },
  {
   "cell_type": "code",
   "execution_count": null,
   "metadata": {},
   "outputs": [],
   "source": [
    "# Hyperparamètres\n",
    "batch_size = 128\n",
    "learning_rate = 0.001\n",
    "num_epochs = 10\n",
    "sparsity_lambda = 1e-3  # Coefficient pour la régularisation L1\n",
    "\n",
    "# Prétraitement du dataset MNIST\n",
    "transform = transforms.Compose(\n",
    "    [transforms.ToTensor(), transforms.Normalize((0.5,), (0.5,))]\n",
    ")\n",
    "train_dataset = datasets.MNIST(\n",
    "    root=\"./data\", train=True, transform=transform, download=True\n",
    ")\n",
    "test_dataset = datasets.MNIST(\n",
    "    root=\"./data\", train=False, transform=transform, download=True\n",
    ")\n",
    "train_loader = DataLoader(dataset=train_dataset, batch_size=batch_size, shuffle=True)\n",
    "test_loader = DataLoader(dataset=test_dataset, batch_size=batch_size, shuffle=False)"
   ]
  },
  {
   "cell_type": "code",
   "execution_count": null,
   "metadata": {},
   "outputs": [],
   "source": [
    "# Définition de l'autoencodeur\n",
    "class SparseAutoencoder(nn.Module):\n",
    "    def __init__(self, input_size=784, hidden_size=128):\n",
    "        super(SparseAutoencoder, self).__init__()\n",
    "        self.encoder = nn.Sequential(nn.Linear(input_size, hidden_size), nn.ReLU())\n",
    "        self.decoder = nn.Sequential(\n",
    "            nn.Linear(hidden_size, input_size),\n",
    "            nn.Sigmoid(),  # Pour une reconstruction des pixels entre 0 et 1\n",
    "        )\n",
    "\n",
    "    def forward(self, x):\n",
    "        encoded = self.encoder(x)\n",
    "        decoded = self.decoder(encoded)\n",
    "        return encoded, decoded\n",
    "\n",
    "\n",
    "# Initialisation du modèle\n",
    "input_size = 28 * 28  # Taille des images MNIST aplaties\n",
    "hidden_size = 128\n",
    "model = SparseAutoencoder(input_size=input_size, hidden_size=hidden_size).to(device)\n",
    "\n",
    "# Optimisateur et fonction de perte\n",
    "criterion = nn.MSELoss()\n",
    "optimizer = optim.Adam(model.parameters(), lr=learning_rate)\n",
    "\n",
    "# Entraînement\n",
    "model.to(device)\n",
    "if False:\n",
    "    for epoch in range(num_epochs):\n",
    "        model.train()\n",
    "        train_loss = 0.0\n",
    "\n",
    "        for images, _ in train_loader:\n",
    "            images = images.view(-1, 28 * 28).to(device)  # Aplatir les images\n",
    "            encoded, decoded = model(images)\n",
    "\n",
    "            # Perte de reconstruction\n",
    "            reconstruction_loss = criterion(decoded, images)\n",
    "\n",
    "            # Pénalité L1 pour encourager la sparsité\n",
    "            l1_loss = torch.mean(torch.abs(encoded))  # Sparsité sur la couche cachée\n",
    "            loss = reconstruction_loss + sparsity_lambda * l1_loss\n",
    "\n",
    "            # Rétropropagation\n",
    "            optimizer.zero_grad()\n",
    "            loss.backward()\n",
    "            optimizer.step()\n",
    "\n",
    "            train_loss += loss.item()\n",
    "\n",
    "        train_loss /= len(train_loader)\n",
    "        print(f\"Epoch [{epoch+1}/{num_epochs}], Loss: {train_loss:.4f}\")"
   ]
  },
  {
   "cell_type": "code",
   "execution_count": null,
   "metadata": {},
   "outputs": [],
   "source": [
    "# Tester l'autoencodeur (visualisation)\n",
    "\n",
    "\n",
    "encoded = []\n",
    "\n",
    "\n",
    "def hook_fn(module, input, output):\n",
    "    # Normalize the output for visualization\n",
    "    # print(\"encoder output:\", output)\n",
    "    encoded.append(output)\n",
    "\n",
    "\n",
    "model.encoder.register_forward_hook(hook_fn)\n",
    "\n",
    "model.eval()\n",
    "with torch.no_grad():\n",
    "    for images, _ in test_loader:\n",
    "        images = images.view(-1, 28 * 28).to(device)\n",
    "        _, decoded = model(images)\n",
    "        images = images.cpu().view(-1, 28, 28)\n",
    "        decoded = decoded.cpu().view(-1, 28, 28)\n",
    "\n",
    "        # Visualiser les images originales et reconstruites\n",
    "        fig, axes = plt.subplots(2, 10, figsize=(10, 2))\n",
    "        for i in range(10):\n",
    "            axes[0, i].imshow(images[i], cmap=\"gray\")\n",
    "            axes[0, i].axis(\"off\")\n",
    "            axes[1, i].imshow(decoded[i], cmap=\"gray\")\n",
    "            axes[1, i].axis(\"off\")\n",
    "        plt.show()\n",
    "        break"
   ]
  },
  {
   "cell_type": "code",
   "execution_count": null,
   "metadata": {},
   "outputs": [],
   "source": [
    "len(encoded)"
   ]
  },
  {
   "cell_type": "code",
   "execution_count": null,
   "metadata": {},
   "outputs": [],
   "source": []
  }
 ],
 "metadata": {
  "kernelspec": {
   "display_name": "cop-diffusion-04jlPuwc-py3.12",
   "language": "python",
   "name": "python3"
  },
  "language_info": {
   "codemirror_mode": {
    "name": "ipython",
    "version": 3
   },
   "file_extension": ".py",
   "mimetype": "text/x-python",
   "name": "python",
   "nbconvert_exporter": "python",
   "pygments_lexer": "ipython3",
   "version": "3.12.6"
  }
 },
 "nbformat": 4,
 "nbformat_minor": 2
}
